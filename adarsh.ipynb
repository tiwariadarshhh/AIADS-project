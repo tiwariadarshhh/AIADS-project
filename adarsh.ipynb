{
  "metadata": {
    "kernelspec": {
      "name": "python",
      "display_name": "Python (Pyodide)",
      "language": "python"
    },
    "language_info": {
      "codemirror_mode": {
        "name": "python",
        "version": 3
      },
      "file_extension": ".py",
      "mimetype": "text/x-python",
      "name": "python",
      "nbconvert_exporter": "python",
      "pygments_lexer": "ipython3",
      "version": "3.8"
    }
  },
  "nbformat_minor": 5,
  "nbformat": 4,
  "cells": [
    {
      "id": "f68b26d7-830f-4629-a0e5-0fe22b3a9f15",
      "cell_type": "code",
      "source": "data = {'A': np.random.randint(1, 300, 30), \n        'B': np.random.randint(1, 300, 30), \n        'C': np.random.randint(1, 300, 30), \n        'D': np.random.randint(1, 300, 30)}\ndf = pd.DataFrame(data)\nimport numpy as np\nimport pandas as pd\nimport matplotlib.pyplot as plt\nfrom scipy import stats\n\nprint(\"\\n### Experiment 5: Averages ###\")\nprint(\"Mean:\", np.mean(df['A']))\nprint(\"Median:\", np.median(df['A']))\nprint(\"Mode:\", stats.mode(df['A'], keepdims=True).mode.item())\nprint(\"Column-wise Mean:\\n\", df.mean())\nprint(\"Column-wise Median:\\n\", df.median())\nprint(\"Column-wise Mode:\\n\", df.mode())\n\nprint(\"\\n### Experiment 6: Variability ###\")\nprint(\"Standard Deviation:\", np.std(df['A']))\nprint(\"Variance:\", np.var(df['A']))\nprint(\"Range:\", np.max(df['A']) - np.min(df['A']))\nprint(\"Column-wise Variance:\\n\", df.var())\nprint(\"Column-wise Standard Deviation:\\n\", df.std())\nprint(\"Summary Statistics:\\n\", df.describe().loc[['std']])\n\nprint(\"\\n### Experiment 7: Normal Curves ###\")\nx = np.linspace(-5, 5, 300)\ny = stats.norm.pdf(x, 0, 1)\nplt.plot(x, y, color='g', label='Standard Normal Curve')\ny2 = stats.norm.pdf(x, 1, 2)\nplt.plot(x, y2, color='r', linestyle='dashed', label='Mean=1, Std=2')\nplt.title('Normal Distribution Curves')\nplt.legend()\nplt.show()\n\nprint(\"\\n### Experiment 8: Correlation and Scatter Plots ###\")\nplt.figure(figsize=(10,6))\nplt.scatter(df['A'], df['B'], c=df['C'], cmap='coolwarm', alpha=0.7)\nplt.colorbar(label='C values')\nplt.xlabel('A')\nplt.ylabel('B')\nplt.title('Scatter Plot between A and B')\nplt.show()\n\nprint(\"\\n### Experiment 9: Correlation Coefficient ###\")\ncorr_matrix = df.corr()\nprint(\"Correlation Matrix:\\n\", corr_matrix)\nprint(\"Correlation between A and B:\", df['A'].corr(df['B']))\nplt.figure(figsize=(8,6))\nplt.imshow(corr_matrix, cmap='coolwarm', interpolation='nearest')\nplt.colorbar()\nplt.xticks(range(len(corr_matrix)), corr_matrix.columns, rotation=45)\nplt.yticks(range(len(corr_matrix)), corr_matrix.columns)\nplt.title('Correlation Matrix Heatmap')\nplt.show()\n\nprint(\"\\n### Experiment 10: Regression ###\")\nslope, intercept, r_value, p_value, std_err = stats.linregress(df['A'], df['B'])\nprint(f\"Regression Equation: Y = {slope:.2f}X + {intercept:.2f}\")\nprint(\"R-squared Value:\", r_value**2)\nprint(\"P-value:\", p_value)\nplt.figure(figsize=(10,6))\nplt.scatter(df['A'], df['B'], label='Data Points')\nplt.plot(df['A'], slope*df['A'] + intercept, color='r', label='Regression Line')\nplt.xlabel('A')\nplt.ylabel('B')\nplt.title('Linear Regression')\nplt.legend()\nplt.show()\n",
      "metadata": {
        "trusted": true
      },
      "outputs": [
        {
          "ename": "<class 'SyntaxError'>",
          "evalue": "unterminated string literal (detected at line 5) (<ipython-input-3-a0e19b4d445e>, line 5)",
          "traceback": [
            "\u001b[0;36m  Cell \u001b[0;32mIn[3], line 5\u001b[0;36m\u001b[0m\n\u001b[0;31m    Sure! What experiment are you trying to conduct? Let me know the details, and I'll provide the appropriate Jupyter Notebook code for you.\u001b[0m\n\u001b[0m                                                                                   ^\u001b[0m\n\u001b[0;31mSyntaxError\u001b[0m\u001b[0;31m:\u001b[0m unterminated string literal (detected at line 5)\n"
          ],
          "output_type": "error"
        }
      ],
      "execution_count": 3
    },
    {
      "id": "bf65b5ae-c330-4b18-88c7-05cf32746cfc",
      "cell_type": "code",
      "source": "",
      "metadata": {
        "trusted": true
      },
      "outputs": [],
      "execution_count": null
    }
  ]
}